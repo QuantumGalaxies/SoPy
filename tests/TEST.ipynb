{
 "cells": [
  {
   "cell_type": "code",
   "execution_count": 1,
   "id": "abc1ff3e-0284-4b48-88d3-43f826ccf4c8",
   "metadata": {},
   "outputs": [
    {
     "name": "stderr",
     "output_type": "stream",
     "text": [
      "2025-04-17 05:58:58.833065: I tensorflow/core/util/port.cc:153] oneDNN custom operations are on. You may see slightly different numerical results due to floating-point round-off errors from different computation orders. To turn them off, set the environment variable `TF_ENABLE_ONEDNN_OPTS=0`.\n",
      "2025-04-17 05:58:58.918786: E external/local_xla/xla/stream_executor/cuda/cuda_fft.cc:477] Unable to register cuFFT factory: Attempting to register factory for plugin cuFFT when one has already been registered\n",
      "WARNING: All log messages before absl::InitializeLog() is called are written to STDERR\n",
      "E0000 00:00:1744887538.955688    3411 cuda_dnn.cc:8310] Unable to register cuDNN factory: Attempting to register factory for plugin cuDNN when one has already been registered\n",
      "E0000 00:00:1744887538.966504    3411 cuda_blas.cc:1418] Unable to register cuBLAS factory: Attempting to register factory for plugin cuBLAS when one has already been registered\n",
      "2025-04-17 05:58:59.049402: I tensorflow/core/platform/cpu_feature_guard.cc:210] This TensorFlow binary is optimized to use available CPU instructions in performance-critical operations.\n",
      "To enable the following instructions: AVX2 AVX512F AVX512_VNNI FMA, in other operations, rebuild TensorFlow with the appropriate compiler flags.\n"
     ]
    }
   ],
   "source": [
    "from os import chdir\n",
    "chdir ('..')\n",
    "import sopy as sp"
   ]
  },
  {
   "cell_type": "code",
   "execution_count": 2,
   "id": "af17c42a-61c3-4c4b-9b3b-111579a30a2c",
   "metadata": {},
   "outputs": [],
   "source": [
    "import numpy as np "
   ]
  },
  {
   "cell_type": "code",
   "execution_count": 3,
   "id": "6955189a-5420-49ab-b53a-94fff5c5d218",
   "metadata": {
    "scrolled": true
   },
   "outputs": [
    {
     "name": "stderr",
     "output_type": "stream",
     "text": [
      "2025-04-17 05:59:07.784266: E external/local_xla/xla/stream_executor/cuda/cuda_driver.cc:152] failed call to cuInit: INTERNAL: CUDA error: Failed call to cuInit: CUDA_ERROR_NO_DEVICE: no CUDA-capable device is detected\n"
     ]
    }
   ],
   "source": [
    "l = [np.linspace(-10,10,100)]\n",
    "u = sp.vector().gaussian(a = 1,positions = [2,6],sigmas = [1,1],ls = [0,0], lattices = 2*l)\n",
    "k = sp.vector().gaussian(a = 1,positions = [0.1,-0.6],sigmas = [1,1],ls = [0,0], lattices = 2*l).gaussian(a = 2,positions = [-1,-2],sigmas = [1,1],ls = [1,1], lattices = 2*l)\n",
    "v = k.copy().gaussian(a = 2,positions = [-2,-5],sigmas = [1,1],ls = [1,0], lattices = 2*l)\n",
    "alpha = 0\n",
    "q = u.learn(v-k,  alpha = alpha, iterate = 1)"
   ]
  },
  {
   "cell_type": "code",
   "execution_count": 4,
   "id": "b51e6655-cc3e-4099-81ec-0030e7f36bb4",
   "metadata": {},
   "outputs": [
    {
     "data": {
      "text/plain": [
       "<tf.Tensor: shape=(), dtype=float64, numpy=0.0>"
      ]
     },
     "execution_count": 4,
     "metadata": {},
     "output_type": "execute_result"
    }
   ],
   "source": [
    "(q).dist(v-k)"
   ]
  },
  {
   "cell_type": "code",
   "execution_count": 5,
   "id": "7a9b1354-2471-4e48-abfd-a4b0d6df950b",
   "metadata": {},
   "outputs": [
    {
     "data": {
      "text/plain": [
       "[<tf.Tensor: shape=(), dtype=float64, numpy=1.806797834236357>,\n",
       " <tf.Tensor: shape=(), dtype=float64, numpy=0.48544657999725715>]"
      ]
     },
     "execution_count": 5,
     "metadata": {},
     "output_type": "execute_result"
    }
   ],
   "source": [
    "[ v.fibonacci( partition = partition, iterate = 10, total_iterate = 10).dist(v) for partition in range(1,len(v))]"
   ]
  },
  {
   "cell_type": "code",
   "execution_count": 6,
   "id": "4edafa7f-a1a8-4a1f-96a8-dd46d2b7e2d8",
   "metadata": {},
   "outputs": [
    {
     "data": {
      "text/plain": [
       "[<tf.Tensor: shape=(), dtype=float64, numpy=1.8069392508595157>,\n",
       " <tf.Tensor: shape=(), dtype=float64, numpy=0.5255490607060604>]"
      ]
     },
     "execution_count": 6,
     "metadata": {},
     "output_type": "execute_result"
    }
   ],
   "source": [
    "[ v.decompose( partition = partition, iterate = 10).dist(v) for partition in range(1,len(v))]"
   ]
  },
  {
   "cell_type": "code",
   "execution_count": 12,
   "id": "536364ad-fc4f-4ae5-a2a2-696cacf9bd53",
   "metadata": {},
   "outputs": [
    {
     "data": {
      "text/plain": [
       "[<tf.Tensor: shape=(), dtype=float64, numpy=1.80686424608695>,\n",
       " <tf.Tensor: shape=(), dtype=float64, numpy=0.488519216041906>]"
      ]
     },
     "execution_count": 12,
     "metadata": {},
     "output_type": "execute_result"
    }
   ],
   "source": [
    "bv = v.boost()\n",
    "[ v.boost().fibonacci(  partition = partition, iterate = 10 ,alpha = 1e-2).unboost().dist(v) for partition in range(1,len(v))]"
   ]
  }
 ],
 "metadata": {
  "kernelspec": {
   "display_name": "Python 3 (ipykernel)",
   "language": "python",
   "name": "python3"
  },
  "language_info": {
   "codemirror_mode": {
    "name": "ipython",
    "version": 3
   },
   "file_extension": ".py",
   "mimetype": "text/x-python",
   "name": "python",
   "nbconvert_exporter": "python",
   "pygments_lexer": "ipython3",
   "version": "3.12.3"
  }
 },
 "nbformat": 4,
 "nbformat_minor": 5
}
