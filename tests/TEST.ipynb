{
 "cells": [
  {
   "cell_type": "code",
   "execution_count": 1,
   "id": "8f548d7d-ac3f-48f7-bdab-31d906adb1dd",
   "metadata": {},
   "outputs": [],
   "source": [
    "import os\n",
    "os.chdir('..')\n"
   ]
  },
  {
   "cell_type": "code",
   "execution_count": 2,
   "id": "abc1ff3e-0284-4b48-88d3-43f826ccf4c8",
   "metadata": {},
   "outputs": [
    {
     "name": "stderr",
     "output_type": "stream",
     "text": [
      "2025-05-09 09:34:04.205650: I tensorflow/core/util/port.cc:153] oneDNN custom operations are on. You may see slightly different numerical results due to floating-point round-off errors from different computation orders. To turn them off, set the environment variable `TF_ENABLE_ONEDNN_OPTS=0`.\n",
      "2025-05-09 09:34:04.215578: E external/local_xla/xla/stream_executor/cuda/cuda_fft.cc:477] Unable to register cuFFT factory: Attempting to register factory for plugin cuFFT when one has already been registered\n",
      "WARNING: All log messages before absl::InitializeLog() is called are written to STDERR\n",
      "E0000 00:00:1746801244.228007    9556 cuda_dnn.cc:8310] Unable to register cuDNN factory: Attempting to register factory for plugin cuDNN when one has already been registered\n",
      "E0000 00:00:1746801244.231609    9556 cuda_blas.cc:1418] Unable to register cuBLAS factory: Attempting to register factory for plugin cuBLAS when one has already been registered\n",
      "2025-05-09 09:34:04.243523: I tensorflow/core/platform/cpu_feature_guard.cc:210] This TensorFlow binary is optimized to use available CPU instructions in performance-critical operations.\n",
      "To enable the following instructions: AVX2 AVX512F AVX512_VNNI FMA, in other operations, rebuild TensorFlow with the appropriate compiler flags.\n"
     ]
    }
   ],
   "source": [
    "import sopy as sp\n",
    "import numpy as np "
   ]
  },
  {
   "cell_type": "code",
   "execution_count": 3,
   "id": "6955189a-5420-49ab-b53a-94fff5c5d218",
   "metadata": {
    "scrolled": true
   },
   "outputs": [
    {
     "name": "stderr",
     "output_type": "stream",
     "text": [
      "2025-05-09 09:34:11.279826: E external/local_xla/xla/stream_executor/cuda/cuda_driver.cc:152] failed call to cuInit: INTERNAL: CUDA error: Failed call to cuInit: CUDA_ERROR_NO_DEVICE: no CUDA-capable device is detected\n"
     ]
    }
   ],
   "source": [
    "\n",
    "##sample functions on this lattice in 2D\n",
    "lattices = 2*[np.linspace(-10,10,100)]\n",
    "wavenumbers = [0.,0.]\n",
    "phis        = [0.,0.]\n",
    "\n",
    "##2D gaussian at (2,6) with sigmas (1,1), and polynominal 0,0\n",
    "u = sp.vector().gaussian(a = 1,positions = [2,6],sigmas = [1,1],ls = [0,0], lattices = lattices, wavenumbers = wavenumbers , phis = phis)\n",
    "\n",
    "##2D gaussian at (0.1,-0.6) with sigmas (1,1), and polynominal 0,0\n",
    "k = sp.vector().gaussian(a = 1,positions = [0.1,-0.6],sigmas = [1,1],ls = [0,0], lattices = lattices, wavenumbers = wavenumbers , phis = phis)\n",
    "##2D gaussian at (-1,-2) with sigmas (1,1), and polynominal 1,1\n",
    "k = k.gaussian(a = 2,positions = [-1,-2],sigmas = [1,1],ls = [1,1], lattices = lattices, wavenumbers = wavenumbers , phis = phis)\n",
    "\n",
    "##2D gaussian at (-2,-5) with sigmas (1,1), and polynominal 1,0\n",
    "v = k.copy().gaussian(a = 2,positions = [-2,-5],sigmas = [1,1],ls = [1,0], lattices = lattices, wavenumbers = wavenumbers , phis = phis)\n",
    "\n",
    "\n",
    "##linear dependence factor...\n",
    "alpha = 0\n",
    "\n",
    "##take v and remove k from it, and decompose into vector u ; outputing to vector q\n",
    "q = u.learn(v-k,  alpha = alpha, iterate = 1)"
   ]
  },
  {
   "cell_type": "code",
   "execution_count": 4,
   "id": "b51e6655-cc3e-4099-81ec-0030e7f36bb4",
   "metadata": {},
   "outputs": [
    {
     "data": {
      "text/plain": [
       "(<tf.Tensor: shape=(), dtype=float64, numpy=0.0>, 1, 3, 2, 1)"
      ]
     },
     "execution_count": 4,
     "metadata": {},
     "output_type": "execute_result"
    }
   ],
   "source": [
    "##distance from q to v-k\n",
    "(q).dist(v-k), len(q), len(v), len(k), len(v-k)"
   ]
  },
  {
   "cell_type": "code",
   "execution_count": 5,
   "id": "7a9b1354-2471-4e48-abfd-a4b0d6df950b",
   "metadata": {},
   "outputs": [
    {
     "data": {
      "text/plain": [
       "[<tf.Tensor: shape=(), dtype=float64, numpy=1.6799587148811832>,\n",
       " <tf.Tensor: shape=(), dtype=float64, numpy=0.5376085108908699>]"
      ]
     },
     "execution_count": 5,
     "metadata": {},
     "output_type": "execute_result"
    }
   ],
   "source": [
    "##superior decompositional algorithm to start from scratch to decompose v to partition -canon ranks-\n",
    "[ v.fibonacci( partition = partition, iterate = 10, total_iterate = 10).dist(v) for partition in range(1,len(v))]"
   ]
  },
  {
   "cell_type": "code",
   "execution_count": 6,
   "id": "4edafa7f-a1a8-4a1f-96a8-dd46d2b7e2d8",
   "metadata": {},
   "outputs": [
    {
     "data": {
      "text/plain": [
       "[<tf.Tensor: shape=(), dtype=float64, numpy=1.6801365771223775>,\n",
       " <tf.Tensor: shape=(), dtype=float64, numpy=0.5969469992196542>]"
      ]
     },
     "execution_count": 6,
     "metadata": {},
     "output_type": "execute_result"
    }
   ],
   "source": [
    "##common decompositional algorithm to start from scratch to decompose v to partition -canon ranks-\n",
    "[ v.decompose( partition = partition, iterate = 10).dist(v) for partition in range(1,len(v))]"
   ]
  },
  {
   "cell_type": "code",
   "execution_count": 7,
   "id": "536364ad-fc4f-4ae5-a2a2-696cacf9bd53",
   "metadata": {},
   "outputs": [
    {
     "data": {
      "text/plain": [
       "[<tf.Tensor: shape=(), dtype=float64, numpy=1.6800341619188237>,\n",
       " <tf.Tensor: shape=(), dtype=float64, numpy=0.5408418179227552>]"
      ]
     },
     "execution_count": 7,
     "metadata": {},
     "output_type": "execute_result"
    }
   ],
   "source": [
    "##LIKE DMRG SWEEP, translate into inner product space\n",
    "#coupled to a superior decomposition algorithm\n",
    "bv = v.boost()\n",
    "[ v.boost().fibonacci(  partition = partition, iterate = 10 ,alpha = 1e-2).unboost().dist(v) for partition in range(1,len(v))]"
   ]
  },
  {
   "cell_type": "code",
   "execution_count": null,
   "id": "1c28576c-21f1-47c3-bf6b-098776a73d99",
   "metadata": {},
   "outputs": [],
   "source": []
  },
  {
   "cell_type": "code",
   "execution_count": null,
   "id": "5ff28217-f92e-4965-8862-78501afab42b",
   "metadata": {},
   "outputs": [],
   "source": []
  }
 ],
 "metadata": {
  "kernelspec": {
   "display_name": "Python 3 (ipykernel)",
   "language": "python",
   "name": "python3"
  },
  "language_info": {
   "codemirror_mode": {
    "name": "ipython",
    "version": 3
   },
   "file_extension": ".py",
   "mimetype": "text/x-python",
   "name": "python",
   "nbconvert_exporter": "python",
   "pygments_lexer": "ipython3",
   "version": "3.12.3"
  }
 },
 "nbformat": 4,
 "nbformat_minor": 5
}
