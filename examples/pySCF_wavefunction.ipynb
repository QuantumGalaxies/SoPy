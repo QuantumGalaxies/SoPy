{
 "cells": [
  {
   "cell_type": "code",
   "execution_count": 1,
   "id": "37e7fef7",
   "metadata": {},
   "outputs": [
    {
     "name": "stderr",
     "output_type": "stream",
     "text": [
      "/Users/quantum/Library/Python/3.9/lib/python/site-packages/urllib3/__init__.py:35: NotOpenSSLWarning: urllib3 v2 only supports OpenSSL 1.1.1+, currently the 'ssl' module is compiled with 'LibreSSL 2.8.3'. See: https://github.com/urllib3/urllib3/issues/3020\n",
      "  warnings.warn(\n"
     ]
    }
   ],
   "source": [
    "# lame training wheels\n",
    "from sys import path\n",
    "path += ['..']\n",
    "#\n",
    "\n",
    "\n",
    "import sopy as sp"
   ]
  },
  {
   "cell_type": "code",
   "execution_count": 2,
   "id": "44252a03-99e6-4059-adf5-f1452253db8c",
   "metadata": {},
   "outputs": [],
   "source": [
    "import numpy as np\n",
    "import pandas as pd\n",
    "from pyscf import gto, scf\n",
    "import ext \n",
    "from pySCF_ext import *"
   ]
  },
  {
   "cell_type": "code",
   "execution_count": 3,
   "id": "2b688292-b993-4991-9911-8677436bf502",
   "metadata": {},
   "outputs": [
    {
     "data": {
      "text/plain": [
       "roll     0.0\n",
       "pitch    0.0\n",
       "yaw     -0.0\n",
       "dtype: float64"
      ]
     },
     "execution_count": 3,
     "metadata": {},
     "output_type": "execute_result"
    }
   ],
   "source": [
    "\n",
    "roll, pitch, yaw = 0*np.radians(np.pi/4), 0*np.radians(np.pi/2), 0*np.radians(-np.pi/4)\n",
    "\n",
    "Run = pd.Series([ roll, pitch, yaw] , index = ['roll','pitch','yaw'])\n",
    "Run"
   ]
  },
  {
   "cell_type": "code",
   "execution_count": null,
   "id": "66472330-fc9b-4dc8-8dec-178d7476d16b",
   "metadata": {},
   "outputs": [],
   "source": [
    "mol = gto.Mole()\n",
    "\n",
    "if False:\n",
    "    mol.build( atom = '''H 0 0 1;  ''', basis ='STO-3G',spin= 1)\n",
    "    filename = 'H'\n",
    "elif False:\n",
    "    mol.build( atom = f'''H {rotation_matrix_from_euler(roll, pitch, yaw, [2,2,2])}; H {rotation_matrix_from_euler(roll, pitch, yaw, [2,-2,-2])}; H {rotation_matrix_from_euler(roll, pitch, yaw, [-2,2,-2])}; H {rotation_matrix_from_euler(roll, pitch, yaw, [-2,-2,2])} ''', basis ='STO-3G',spin= 0)\n",
    "    filename = 'H4'    \n",
    "##\n",
    "elif True:\n",
    "    coord =   \"\"\"6.290730e-01,6.290730e-01,6.290730e-01\n",
    "      6.290730e-01,-6.290730e-01 ,-6.290730e-01\n",
    "     -6.290730e-01, 6.290730e-01 ,-6.290730e-01\n",
    "     -6.290730e-01,-6.290730e-01 , 6.290730e-01\n",
    "      3.629073e+00, 6.290730e-01 , 6.290730e-01\n",
    "      3.629073e+00,-6.290730e-01 ,-6.290730e-01\n",
    "      2.370927e+00, 6.290730e-01 ,-6.290730e-01\n",
    "      2.370927e+00,-6.290730e-01 , 6.290730e-01\n",
    "      6.290730e-01, 3.629073e+00 , 6.290730e-01\n",
    "     6.290730e-01,  2.370927e+00 ,-6.290730e-01\n",
    "     -6.290730e-01,  3.629073e+00 ,-6.290730e-01\n",
    "     -6.290730e-01,  2.370927e+00 , 6.290730e-01\n",
    "     6.290730e-01,  6.290730e-01 , 3.629073e+00\n",
    "     6.290730e-01, -6.290730e-01 , 2.370927e+00\n",
    "     -6.290730e-01,  6.290730e-01,  2.370927e+00\n",
    "     -6.290730e-01, -6.290730e-01,  3.629073e+00\"\"\"\n",
    "    coords = ''\n",
    "    for line in coord.split('\\n'):\n",
    "        x,y,z = map(float,line.replace(' ','').split(','))\n",
    "        coords += f' H {rotation_matrix_from_euler(roll, pitch, yaw, [x,y,z])} ; '\n",
    "    mol.build( atom = coords, basis ='STO-3G',spin= 0)\n",
    "    filename = 'H16'\n",
    "Run['filename'] = filename"
   ]
  },
  {
   "cell_type": "code",
   "execution_count": 74,
   "id": "b0cda915",
   "metadata": {},
   "outputs": [
    {
     "data": {
      "text/plain": [
       "8"
      ]
     },
     "execution_count": 74,
     "metadata": {},
     "output_type": "execute_result"
    }
   ],
   "source": [
    "# Select state \n",
    "ne = mol.nelectron//2\n",
    "canons = 4\n",
    "iterate = 100\n",
    "total_iterate = 100\n",
    "alpha=1e-4\n",
    "Run['ne']     = ne \n",
    "Run['iterate'] = iterate\n",
    "Run['total_iterate'] = total_iterate\n",
    "Run['canons']=canons\n",
    "Run['alpha'] = alpha\n",
    "ne\n"
   ]
  },
  {
   "cell_type": "code",
   "execution_count": 75,
   "id": "0b291a0b-83e1-42d3-b72b-d67cd042d279",
   "metadata": {},
   "outputs": [
    {
     "name": "stdout",
     "output_type": "stream",
     "text": [
      "SCF not converged.\n",
      "SCF energy = -6.24798034741421\n"
     ]
    },
    {
     "data": {
      "text/plain": [
       "(1, 16, 16)"
      ]
     },
     "execution_count": 75,
     "metadata": {},
     "output_type": "execute_result"
    }
   ],
   "source": [
    "## RHF ##\n",
    "##     ##\n",
    "mf = scf.RHF(mol).run()\n",
    "orb = mf.mo_coeff ##First Level##\n",
    "if len(np.shape(orb))< 3:\n",
    "    orb = [orb]\n",
    "np.shape(orb)"
   ]
  },
  {
   "cell_type": "code",
   "execution_count": 76,
   "id": "39c7c737-81e6-4767-ae70-bf1307be8b25",
   "metadata": {},
   "outputs": [],
   "source": [
    "box_size = 10.0\n",
    "L        = 500\n",
    "Run['box_size'] = box_size\n",
    "Run['L']        = L\n",
    "lattices = 3*[ np.linspace( -box_size/2,box_size/2, L ) ]\n",
    "\n",
    "Sum1 = get_orbital(mol, orb[0], ne, lattices=lattices)\n",
    "Sum1 = Sum1.mul(1./Sum1.n())"
   ]
  },
  {
   "cell_type": "code",
   "execution_count": 77,
   "id": "76577187",
   "metadata": {},
   "outputs": [],
   "source": [
    "def D(q, method, Sum1=Sum1):\n",
    "    q1 = q.copy().mul(1./q.n())\n",
    "    return pd.Series({'method':method, 'dist':(q1.dist(Sum1)).numpy(), 'canons':int(len(q1)), 'ld2':q1.ld2().numpy(), 'ld1':q1.ld1().numpy(),'norm':q1.n().numpy()})"
   ]
  },
  {
   "cell_type": "markdown",
   "id": "ddfbe087",
   "metadata": {},
   "source": [
    "The output of get_orbital are in digital space properly, they are orthonormal"
   ]
  },
  {
   "cell_type": "code",
   "execution_count": 78,
   "id": "28647913",
   "metadata": {},
   "outputs": [
    {
     "data": {
      "text/plain": [
       "(<tf.Tensor: shape=(), dtype=float64, numpy=1.0000000000000004>, 48)"
      ]
     },
     "execution_count": 78,
     "metadata": {},
     "output_type": "execute_result"
    }
   ],
   "source": [
    "Sum1.dot(Sum1),len(Sum1)"
   ]
  },
  {
   "cell_type": "code",
   "execution_count": 79,
   "id": "91e301b3",
   "metadata": {},
   "outputs": [
    {
     "data": {
      "text/plain": [
       "method    fibonacci\n",
       "dist       0.490773\n",
       "canons            4\n",
       "ld2         1.04549\n",
       "ld1        1.946546\n",
       "norm            1.0\n",
       "dtype: object"
      ]
     },
     "execution_count": 79,
     "metadata": {},
     "output_type": "execute_result"
    }
   ],
   "source": [
    "q = Sum1.copy().fibonacci(  partition=canons, iterate=iterate, total_iterate=total_iterate, alpha=alpha)\n",
    "\n",
    "D(q,'fibonacci')"
   ]
  },
  {
   "cell_type": "code",
   "execution_count": 80,
   "id": "bf795a01",
   "metadata": {},
   "outputs": [
    {
     "data": {
      "text/plain": [
       "method    boost_fibonacci\n",
       "dist             0.526197\n",
       "canons                  4\n",
       "ld2              0.937266\n",
       "ld1              1.790719\n",
       "norm                  1.0\n",
       "dtype: object"
      ]
     },
     "execution_count": 80,
     "metadata": {},
     "output_type": "execute_result"
    }
   ],
   "source": [
    "q2 = Sum1.copy().boost().fibonacci(  partition=canons, iterate=iterate, total_iterate=total_iterate, alpha=alpha).unboost()\n",
    "\n",
    "D(q2,'boost_fibonacci')"
   ]
  },
  {
   "cell_type": "code",
   "execution_count": 81,
   "id": "39da628c",
   "metadata": {},
   "outputs": [
    {
     "data": {
      "text/plain": [
       "method    boost_decompose\n",
       "dist             0.618058\n",
       "canons                  4\n",
       "ld2              1.001544\n",
       "ld1              1.728892\n",
       "norm                  1.0\n",
       "dtype: object"
      ]
     },
     "execution_count": 81,
     "metadata": {},
     "output_type": "execute_result"
    }
   ],
   "source": [
    "q3 = Sum1.copy().boost().decompose(  partition=canons, iterate=iterate, alpha=alpha).unboost()\n",
    "\n",
    "D(q3,'boost_decompose')"
   ]
  },
  {
   "cell_type": "code",
   "execution_count": 82,
   "id": "bda994f9",
   "metadata": {},
   "outputs": [
    {
     "data": {
      "text/plain": [
       "method    decompose\n",
       "dist       0.610132\n",
       "canons            4\n",
       "ld2        1.012203\n",
       "ld1        1.772769\n",
       "norm            1.0\n",
       "dtype: object"
      ]
     },
     "execution_count": 82,
     "metadata": {},
     "output_type": "execute_result"
    }
   ],
   "source": [
    "q4 = Sum1.copy().decompose(  partition=canons, iterate=iterate, alpha=alpha)\n",
    "\n",
    "D(q4,'decompose')"
   ]
  },
  {
   "cell_type": "code",
   "execution_count": 83,
   "id": "03d9a44f-427b-4edb-ad29-0ac8946969cf",
   "metadata": {},
   "outputs": [],
   "source": [
    "Tum1 = { 0: Sum1[0], 1: Sum1[1], 2: Sum1[2], 3: Sum1[3] } \n",
    "lattices_dict = { 1:lattices[0], 2:lattices[1], 3:lattices[2]}"
   ]
  },
  {
   "cell_type": "code",
   "execution_count": 104,
   "id": "e70c7a5b-9c4c-49b0-b474-3f36b135e9f9",
   "metadata": {
    "scrolled": true
   },
   "outputs": [
    {
     "data": {
      "text/plain": [
       "<tf.Tensor: shape=(4, 1), dtype=float64, numpy=\n",
       "array([[1.00700782],\n",
       "       [0.59923237],\n",
       "       [0.99884253],\n",
       "       [0.57258941]])>"
      ]
     },
     "execution_count": 104,
     "metadata": {},
     "output_type": "execute_result"
    }
   ],
   "source": [
    "tl = ext.reduce(ext.image(Tum1), canons )\n",
    "\n",
    "tl1 = sp.vector().transpose(tl, lattices_dict).copy(norm_ = True)\n",
    "tl1[0]\n"
   ]
  },
  {
   "cell_type": "code",
   "execution_count": 107,
   "id": "1568a597",
   "metadata": {},
   "outputs": [
    {
     "data": {
      "text/plain": [
       "method      reduce\n",
       "dist       0.14089\n",
       "canons           4\n",
       "ld2       1.659237\n",
       "ld1       3.209527\n",
       "norm           1.0\n",
       "dtype: object"
      ]
     },
     "execution_count": 107,
     "metadata": {},
     "output_type": "execute_result"
    }
   ],
   "source": [
    "D(tl1,'reduce')\n",
    "#tl1[0]"
   ]
  },
  {
   "cell_type": "code",
   "execution_count": 103,
   "id": "2dd616c0-559d-46de-92c9-3aa70346e747",
   "metadata": {},
   "outputs": [
    {
     "data": {
      "text/html": [
       "<div>\n",
       "<style scoped>\n",
       "    .dataframe tbody tr th:only-of-type {\n",
       "        vertical-align: middle;\n",
       "    }\n",
       "\n",
       "    .dataframe tbody tr th {\n",
       "        vertical-align: top;\n",
       "    }\n",
       "\n",
       "    .dataframe thead th {\n",
       "        text-align: right;\n",
       "    }\n",
       "</style>\n",
       "<table border=\"1\" class=\"dataframe\">\n",
       "  <thead>\n",
       "    <tr style=\"text-align: right;\">\n",
       "      <th></th>\n",
       "      <th>method</th>\n",
       "      <th>dist</th>\n",
       "      <th>canons</th>\n",
       "      <th>ld2</th>\n",
       "      <th>ld1</th>\n",
       "      <th>norm</th>\n",
       "    </tr>\n",
       "  </thead>\n",
       "  <tbody>\n",
       "    <tr>\n",
       "      <th>0</th>\n",
       "      <td>Orbital</td>\n",
       "      <td>2.580957e-08</td>\n",
       "      <td>48</td>\n",
       "      <td>1.101481</td>\n",
       "      <td>5.959204</td>\n",
       "      <td>1.0</td>\n",
       "    </tr>\n",
       "    <tr>\n",
       "      <th>1</th>\n",
       "      <td>fibonacci</td>\n",
       "      <td>4.907729e-01</td>\n",
       "      <td>4</td>\n",
       "      <td>1.045490</td>\n",
       "      <td>1.946546</td>\n",
       "      <td>1.0</td>\n",
       "    </tr>\n",
       "    <tr>\n",
       "      <th>2</th>\n",
       "      <td>boost_fibonacci</td>\n",
       "      <td>5.261965e-01</td>\n",
       "      <td>4</td>\n",
       "      <td>0.937266</td>\n",
       "      <td>1.790719</td>\n",
       "      <td>1.0</td>\n",
       "    </tr>\n",
       "    <tr>\n",
       "      <th>3</th>\n",
       "      <td>boost_decompose</td>\n",
       "      <td>6.180581e-01</td>\n",
       "      <td>4</td>\n",
       "      <td>1.001544</td>\n",
       "      <td>1.728892</td>\n",
       "      <td>1.0</td>\n",
       "    </tr>\n",
       "    <tr>\n",
       "      <th>4</th>\n",
       "      <td>decompose</td>\n",
       "      <td>6.101325e-01</td>\n",
       "      <td>4</td>\n",
       "      <td>1.012203</td>\n",
       "      <td>1.772769</td>\n",
       "      <td>1.0</td>\n",
       "    </tr>\n",
       "    <tr>\n",
       "      <th>5</th>\n",
       "      <td>reduce</td>\n",
       "      <td>1.477100e-01</td>\n",
       "      <td>4</td>\n",
       "      <td>1.613261</td>\n",
       "      <td>3.180537</td>\n",
       "      <td>1.0</td>\n",
       "    </tr>\n",
       "  </tbody>\n",
       "</table>\n",
       "</div>"
      ],
      "text/plain": [
       "            method          dist  canons       ld2       ld1  norm\n",
       "0          Orbital  2.580957e-08      48  1.101481  5.959204   1.0\n",
       "1        fibonacci  4.907729e-01       4  1.045490  1.946546   1.0\n",
       "2  boost_fibonacci  5.261965e-01       4  0.937266  1.790719   1.0\n",
       "3  boost_decompose  6.180581e-01       4  1.001544  1.728892   1.0\n",
       "4        decompose  6.101325e-01       4  1.012203  1.772769   1.0\n",
       "5           reduce  1.477100e-01       4  1.613261  3.180537   1.0"
      ]
     },
     "execution_count": 103,
     "metadata": {},
     "output_type": "execute_result"
    }
   ],
   "source": [
    "pd.DataFrame(([D(Sum1,'Orbital'),D(q,'fibonacci'),D(q2,'boost_fibonacci'),D(q3,'boost_decompose'), D(q4, 'decompose'),D(tl1,'reduce')]))"
   ]
  },
  {
   "cell_type": "code",
   "execution_count": null,
   "id": "c85ba18d",
   "metadata": {},
   "outputs": [],
   "source": []
  },
  {
   "cell_type": "code",
   "execution_count": null,
   "id": "90ed4952",
   "metadata": {},
   "outputs": [],
   "source": []
  },
  {
   "cell_type": "code",
   "execution_count": null,
   "id": "a10718f2",
   "metadata": {},
   "outputs": [],
   "source": []
  },
  {
   "cell_type": "code",
   "execution_count": null,
   "id": "d6874f83",
   "metadata": {},
   "outputs": [],
   "source": []
  }
 ],
 "metadata": {
  "kernelspec": {
   "display_name": "Python 3",
   "language": "python",
   "name": "python3"
  },
  "language_info": {
   "codemirror_mode": {
    "name": "ipython",
    "version": 3
   },
   "file_extension": ".py",
   "mimetype": "text/x-python",
   "name": "python",
   "nbconvert_exporter": "python",
   "pygments_lexer": "ipython3",
   "version": "3.9.6"
  }
 },
 "nbformat": 4,
 "nbformat_minor": 5
}
