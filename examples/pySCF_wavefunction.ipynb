{
 "cells": [
  {
   "cell_type": "code",
   "execution_count": 1,
   "id": "44252a03-99e6-4059-adf5-f1452253db8c",
   "metadata": {},
   "outputs": [
    {
     "name": "stderr",
     "output_type": "stream",
     "text": [
      "/Users/quantum/Library/Python/3.9/lib/python/site-packages/urllib3/__init__.py:35: NotOpenSSLWarning: urllib3 v2 only supports OpenSSL 1.1.1+, currently the 'ssl' module is compiled with 'LibreSSL 2.8.3'. See: https://github.com/urllib3/urllib3/issues/3020\n",
      "  warnings.warn(\n"
     ]
    }
   ],
   "source": [
    "import numpy as np\n",
    "import pandas as pd\n",
    "from pyscf import gto, scf\n",
    "import ext \n",
    "from pySCF_ext import *"
   ]
  },
  {
   "cell_type": "code",
   "execution_count": 2,
   "id": "41f54b79-7f56-4a78-b1c1-439712eadf09",
   "metadata": {},
   "outputs": [],
   "source": [
    "import sopy as sp"
   ]
  },
  {
   "cell_type": "code",
   "execution_count": 3,
   "id": "1777e7a9-699c-4bcf-b75f-a7499ce0b3fe",
   "metadata": {},
   "outputs": [],
   "source": [
    "def D(q, method):\n",
    "    return pd.concat([Run,pd.Series({'method':method, 'dist':(q.dist(Sum1)).numpy(), 'canons':int(len(q)), 'ld2':q.ld2().numpy(), 'ld1':q.ld1().numpy(),'norm':q.n().numpy()})])"
   ]
  },
  {
   "cell_type": "code",
   "execution_count": 4,
   "id": "2b688292-b993-4991-9911-8677436bf502",
   "metadata": {},
   "outputs": [
    {
     "data": {
      "text/plain": [
       "roll     0.0\n",
       "pitch    0.0\n",
       "yaw     -0.0\n",
       "dtype: float64"
      ]
     },
     "execution_count": 4,
     "metadata": {},
     "output_type": "execute_result"
    }
   ],
   "source": [
    "\n",
    "roll, pitch, yaw = 0*np.radians(np.pi/4), 0*np.radians(np.pi/2), 0*np.radians(-np.pi/4)\n",
    "\n",
    "Run = pd.Series([ roll, pitch, yaw] , index = ['roll','pitch','yaw'])\n",
    "Run"
   ]
  },
  {
   "cell_type": "code",
   "execution_count": 5,
   "id": "66472330-fc9b-4dc8-8dec-178d7476d16b",
   "metadata": {},
   "outputs": [],
   "source": [
    "mol = gto.Mole()\n",
    "\n",
    "if False:\n",
    "    mol.build( atom = '''H 0 0 1;  ''', basis ='STO-3G',spin= 1)\n",
    "\n",
    "    ne = 1\n",
    "    canons = 1\n",
    "\n",
    "    filename = 'H'\n",
    "if True:\n",
    "\n",
    "    \n",
    "    mol.build( atom = f'''H {rotation_matrix_from_euler(roll, pitch, yaw, [2,2,2])}; H {rotation_matrix_from_euler(roll, pitch, yaw, [2,-2,-2])}; H {rotation_matrix_from_euler(roll, pitch, yaw, [-2,2,-2])}; H {rotation_matrix_from_euler(roll, pitch, yaw, [-2,-2,2])} ''', basis ='STO-3G',spin= 0)\n",
    "    \n",
    "    filename = 'H4'\n",
    "\n",
    "    ne = 4\n",
    "    canons = ne // 2\n",
    "    \n",
    "##\n",
    "\n",
    "if False:\n",
    "    coord =   \"\"\"6.290730e-01,6.290730e-01,6.290730e-01\n",
    "      6.290730e-01,-6.290730e-01 ,-6.290730e-01\n",
    "     -6.290730e-01, 6.290730e-01 ,-6.290730e-01\n",
    "     -6.290730e-01,-6.290730e-01 , 6.290730e-01\n",
    "      3.629073e+00, 6.290730e-01 , 6.290730e-01\n",
    "      3.629073e+00,-6.290730e-01 ,-6.290730e-01\n",
    "      2.370927e+00, 6.290730e-01 ,-6.290730e-01\n",
    "      2.370927e+00,-6.290730e-01 , 6.290730e-01\n",
    "      6.290730e-01, 3.629073e+00 , 6.290730e-01\n",
    "     6.290730e-01,  2.370927e+00 ,-6.290730e-01\n",
    "     -6.290730e-01,  3.629073e+00 ,-6.290730e-01\n",
    "     -6.290730e-01,  2.370927e+00 , 6.290730e-01\n",
    "     6.290730e-01,  6.290730e-01 , 3.629073e+00\n",
    "     6.290730e-01, -6.290730e-01 , 2.370927e+00\n",
    "     -6.290730e-01,  6.290730e-01,  2.370927e+00\n",
    "     -6.290730e-01, -6.290730e-01,  3.629073e+00\"\"\"\n",
    "    coords = ''\n",
    "    for line in coord.split('\\n'):\n",
    "        x,y,z = map(float,line.replace(' ','').split(','))\n",
    "        coords += f' H {rotation_matrix_from_euler(roll, pitch, yaw, [x,y,z])} ; '\n",
    "    mol.build( atom = coords, basis ='STO-3G',spin= 0)\n",
    "    ne = 16\n",
    "    filename = 'H16'\n",
    "    canons = ne *4\n",
    "Run['filename'] = filename"
   ]
  },
  {
   "cell_type": "code",
   "execution_count": 6,
   "id": "b0cda915",
   "metadata": {},
   "outputs": [
    {
     "data": {
      "text/plain": [
       "2"
      ]
     },
     "execution_count": 6,
     "metadata": {},
     "output_type": "execute_result"
    }
   ],
   "source": [
    "# Select state \n",
    "ne = mol.nelectron//2\n",
    "Run['ne']     = ne \n",
    "ne\n"
   ]
  },
  {
   "cell_type": "code",
   "execution_count": 7,
   "id": "0b291a0b-83e1-42d3-b72b-d67cd042d279",
   "metadata": {},
   "outputs": [
    {
     "name": "stdout",
     "output_type": "stream",
     "text": [
      "SCF not converged.\n",
      "SCF energy = -0.504207988317219\n"
     ]
    },
    {
     "data": {
      "text/plain": [
       "(1, 4, 4)"
      ]
     },
     "execution_count": 7,
     "metadata": {},
     "output_type": "execute_result"
    }
   ],
   "source": [
    "## RHF ##\n",
    "##     ##\n",
    "mf = scf.RHF(mol).run()\n",
    "orb = mf.mo_coeff ##First Level##\n",
    "if len(np.shape(orb))< 3:\n",
    "    orb = [orb]\n",
    "np.shape(orb)"
   ]
  },
  {
   "cell_type": "code",
   "execution_count": 8,
   "id": "39c7c737-81e6-4767-ae70-bf1307be8b25",
   "metadata": {},
   "outputs": [],
   "source": [
    "box_size = 50.0\n",
    "L        = 500\n",
    "Run['box_size'] = box_size\n",
    "Run['L']        = L\n",
    "lattices = 3*[ np.linspace( -box_size/2,box_size/2, L ) ]\n",
    "\n",
    "Sum1 = get_orbital(mol, orb[0], ne, lattices=lattices)"
   ]
  },
  {
   "cell_type": "code",
   "execution_count": 9,
   "id": "e6672d9b-5d8f-47d7-8fd7-d18ed8a984c7",
   "metadata": {},
   "outputs": [],
   "source": [
    "q = Sum1.fibonacci(  partition = canons, iterate = 10,total_iterate = 100 ,alpha = 1e-6)\n",
    "q3 = Sum1.boost().decompose(  partition = canons, iterate = 10 ,alpha = 1e-6).unboost()\n",
    "q2 = Sum1.boost().fibonacci(  partition = canons, iterate = 10,total_iterate = 100 ,alpha = 1e-6).unboost()"
   ]
  },
  {
   "cell_type": "code",
   "execution_count": 10,
   "id": "03d9a44f-427b-4edb-ad29-0ac8946969cf",
   "metadata": {},
   "outputs": [],
   "source": [
    "Tum1 = { 0: Sum1[0], 1: Sum1[1], 2: Sum1[2], 3: Sum1[3] } \n",
    "lattices_dict = { 1:lattices[0], 2:lattices[1], 3:lattices[2]}"
   ]
  },
  {
   "cell_type": "code",
   "execution_count": 14,
   "id": "e70c7a5b-9c4c-49b0-b474-3f36b135e9f9",
   "metadata": {
    "scrolled": true
   },
   "outputs": [
    {
     "data": {
      "text/plain": [
       "roll             0.0\n",
       "pitch            0.0\n",
       "yaw             -0.0\n",
       "filename          H4\n",
       "ne                 2\n",
       "box_size        50.0\n",
       "L                500\n",
       "method        reduce\n",
       "dist        0.138765\n",
       "canons             2\n",
       "ld2         1.414214\n",
       "ld1              2.0\n",
       "norm        1.003401\n",
       "dtype: object"
      ]
     },
     "execution_count": 14,
     "metadata": {},
     "output_type": "execute_result"
    }
   ],
   "source": [
    "tl = ext.reduce(ext.image(Tum1), canons )\n",
    "\n",
    "tl1 = sp.vector().transpose(tl, lattices_dict)\n",
    "D(tl1,'reduce')"
   ]
  },
  {
   "cell_type": "code",
   "execution_count": 15,
   "id": "2dd616c0-559d-46de-92c9-3aa70346e747",
   "metadata": {},
   "outputs": [
    {
     "data": {
      "text/html": [
       "<div>\n",
       "<style scoped>\n",
       "    .dataframe tbody tr th:only-of-type {\n",
       "        vertical-align: middle;\n",
       "    }\n",
       "\n",
       "    .dataframe tbody tr th {\n",
       "        vertical-align: top;\n",
       "    }\n",
       "\n",
       "    .dataframe thead th {\n",
       "        text-align: right;\n",
       "    }\n",
       "</style>\n",
       "<table border=\"1\" class=\"dataframe\">\n",
       "  <thead>\n",
       "    <tr style=\"text-align: right;\">\n",
       "      <th></th>\n",
       "      <th>roll</th>\n",
       "      <th>pitch</th>\n",
       "      <th>yaw</th>\n",
       "      <th>filename</th>\n",
       "      <th>ne</th>\n",
       "      <th>box_size</th>\n",
       "      <th>L</th>\n",
       "      <th>method</th>\n",
       "      <th>dist</th>\n",
       "      <th>canons</th>\n",
       "      <th>ld2</th>\n",
       "      <th>ld1</th>\n",
       "      <th>norm</th>\n",
       "    </tr>\n",
       "  </thead>\n",
       "  <tbody>\n",
       "    <tr>\n",
       "      <th>0</th>\n",
       "      <td>0.0</td>\n",
       "      <td>0.0</td>\n",
       "      <td>-0.0</td>\n",
       "      <td>H4</td>\n",
       "      <td>2</td>\n",
       "      <td>50.0</td>\n",
       "      <td>500</td>\n",
       "      <td>Orbital</td>\n",
       "      <td>0.000000</td>\n",
       "      <td>12</td>\n",
       "      <td>0.712802</td>\n",
       "      <td>1.604461</td>\n",
       "      <td>1.012951</td>\n",
       "    </tr>\n",
       "    <tr>\n",
       "      <th>1</th>\n",
       "      <td>0.0</td>\n",
       "      <td>0.0</td>\n",
       "      <td>-0.0</td>\n",
       "      <td>H4</td>\n",
       "      <td>2</td>\n",
       "      <td>50.0</td>\n",
       "      <td>500</td>\n",
       "      <td>fibonacci</td>\n",
       "      <td>0.140041</td>\n",
       "      <td>2</td>\n",
       "      <td>0.996011</td>\n",
       "      <td>1.408571</td>\n",
       "      <td>1.001325</td>\n",
       "    </tr>\n",
       "    <tr>\n",
       "      <th>2</th>\n",
       "      <td>0.0</td>\n",
       "      <td>0.0</td>\n",
       "      <td>-0.0</td>\n",
       "      <td>H4</td>\n",
       "      <td>2</td>\n",
       "      <td>50.0</td>\n",
       "      <td>500</td>\n",
       "      <td>boost_fibonacci</td>\n",
       "      <td>0.140058</td>\n",
       "      <td>2</td>\n",
       "      <td>0.995996</td>\n",
       "      <td>1.408549</td>\n",
       "      <td>1.001292</td>\n",
       "    </tr>\n",
       "    <tr>\n",
       "      <th>3</th>\n",
       "      <td>0.0</td>\n",
       "      <td>0.0</td>\n",
       "      <td>-0.0</td>\n",
       "      <td>H4</td>\n",
       "      <td>2</td>\n",
       "      <td>50.0</td>\n",
       "      <td>500</td>\n",
       "      <td>reduce</td>\n",
       "      <td>0.138765</td>\n",
       "      <td>2</td>\n",
       "      <td>1.414214</td>\n",
       "      <td>2.000000</td>\n",
       "      <td>1.003401</td>\n",
       "    </tr>\n",
       "  </tbody>\n",
       "</table>\n",
       "</div>"
      ],
      "text/plain": [
       "   roll  pitch  yaw filename  ne  box_size    L           method      dist  \\\n",
       "0   0.0    0.0 -0.0       H4   2      50.0  500          Orbital  0.000000   \n",
       "1   0.0    0.0 -0.0       H4   2      50.0  500        fibonacci  0.140041   \n",
       "2   0.0    0.0 -0.0       H4   2      50.0  500  boost_fibonacci  0.140058   \n",
       "3   0.0    0.0 -0.0       H4   2      50.0  500           reduce  0.138765   \n",
       "\n",
       "   canons       ld2       ld1      norm  \n",
       "0      12  0.712802  1.604461  1.012951  \n",
       "1       2  0.996011  1.408571  1.001325  \n",
       "2       2  0.995996  1.408549  1.001292  \n",
       "3       2  1.414214  2.000000  1.003401  "
      ]
     },
     "execution_count": 15,
     "metadata": {},
     "output_type": "execute_result"
    }
   ],
   "source": [
    "(pd.DataFrame([D(Sum1,'Orbital'),D(q,'fibonacci'),D(q2,'boost_fibonacci'),D(tl1,'reduce')]))"
   ]
  },
  {
   "cell_type": "code",
   "execution_count": null,
   "id": "cd37c811",
   "metadata": {},
   "outputs": [],
   "source": []
  },
  {
   "cell_type": "code",
   "execution_count": null,
   "id": "fbf59f36",
   "metadata": {},
   "outputs": [],
   "source": []
  }
 ],
 "metadata": {
  "kernelspec": {
   "display_name": "Python 3",
   "language": "python",
   "name": "python3"
  },
  "language_info": {
   "codemirror_mode": {
    "name": "ipython",
    "version": 3
   },
   "file_extension": ".py",
   "mimetype": "text/x-python",
   "name": "python",
   "nbconvert_exporter": "python",
   "pygments_lexer": "ipython3",
   "version": "3.9.6"
  }
 },
 "nbformat": 4,
 "nbformat_minor": 5
}
