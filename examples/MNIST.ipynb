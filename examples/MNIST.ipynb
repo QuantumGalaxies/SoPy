{
 "cells": [
  {
   "cell_type": "code",
   "execution_count": 1,
   "id": "f4e55e65-4ba9-4cc9-aa48-97643b8a5f64",
   "metadata": {},
   "outputs": [],
   "source": [
    "flag = False"
   ]
  },
  {
   "cell_type": "code",
   "execution_count": 2,
   "id": "65041f89-ba4e-487a-b601-7e18277256d4",
   "metadata": {},
   "outputs": [],
   "source": [
    "if flag:\n",
    "    print(Run)\n",
    "flag = True"
   ]
  },
  {
   "cell_type": "code",
   "execution_count": 3,
   "id": "314ae3bc-0a9f-4eb7-8f0d-1edec10041a8",
   "metadata": {},
   "outputs": [],
   "source": [
    "train   = 200\n",
    "holdout = 10\n",
    "D       = 10\n",
    "canons  = 5\n",
    "random_state = 1\n",
    "dense_layer_length = 10\n",
    "table = 'figures'\n",
    "if_exists = 'append'"
   ]
  },
  {
   "cell_type": "code",
   "execution_count": null,
   "id": "845bfd89-0668-4e7f-8550-fd6016a6bd89",
   "metadata": {},
   "outputs": [],
   "source": [
    "# lame training wheels\n",
    "from sys import path\n",
    "path += ['..']\n",
    "#\n"
   ]
  },
  {
   "cell_type": "code",
   "execution_count": 5,
   "id": "2f64ab69-d4c7-4493-85f6-0b1a5bd9ef91",
   "metadata": {},
   "outputs": [
    {
     "name": "stderr",
     "output_type": "stream",
     "text": [
      "2025-05-09 09:39:13.447947: I tensorflow/core/util/port.cc:153] oneDNN custom operations are on. You may see slightly different numerical results due to floating-point round-off errors from different computation orders. To turn them off, set the environment variable `TF_ENABLE_ONEDNN_OPTS=0`.\n",
      "2025-05-09 09:39:13.457832: E external/local_xla/xla/stream_executor/cuda/cuda_fft.cc:477] Unable to register cuFFT factory: Attempting to register factory for plugin cuFFT when one has already been registered\n",
      "WARNING: All log messages before absl::InitializeLog() is called are written to STDERR\n",
      "E0000 00:00:1746801553.470181   11810 cuda_dnn.cc:8310] Unable to register cuDNN factory: Attempting to register factory for plugin cuDNN when one has already been registered\n",
      "E0000 00:00:1746801553.473955   11810 cuda_blas.cc:1418] Unable to register cuBLAS factory: Attempting to register factory for plugin cuBLAS when one has already been registered\n",
      "2025-05-09 09:39:13.486691: I tensorflow/core/platform/cpu_feature_guard.cc:210] This TensorFlow binary is optimized to use available CPU instructions in performance-critical operations.\n",
      "To enable the following instructions: AVX2 AVX512F AVX512_VNNI FMA, in other operations, rebuild TensorFlow with the appropriate compiler flags.\n"
     ]
    },
    {
     "name": "stdout",
     "output_type": "stream",
     "text": [
      "Training images shape: (60000, 28, 28)\n",
      "Training labels shape: (60000,)\n",
      "Testing images shape: (10000, 28, 28)\n",
      "Testing labels shape: (10000,)\n"
     ]
    }
   ],
   "source": [
    "import numpy as np\n",
    "import pandas as pd\n",
    "from sklearn.model_selection import train_test_split\n",
    "from sklearn.preprocessing import StandardScaler, LabelEncoder\n",
    "from sklearn.metrics import accuracy_score\n",
    "import matplotlib.pyplot as plt\n",
    "\n",
    "import tensorflow as tf\n",
    "from tensorflow import keras\n",
    "\n",
    "# Load the MNIST dataset\n",
    "(train_images, train_labels), (test_images, test_labels) = keras.datasets.mnist.load_data()\n",
    "\n",
    "# Verify the shapes of the loaded data\n",
    "print(\"Training images shape:\", train_images.shape)\n",
    "print(\"Training labels shape:\", train_labels.shape)\n",
    "print(\"Testing images shape:\", test_images.shape)\n",
    "print(\"Testing labels shape:\", test_labels.shape)\n",
    "\n",
    "# Normalize the pixel values (0-255 to 0-1)\n",
    "train_images = train_images / 255.0\n",
    "test_images = test_images / 255.0"
   ]
  },
  {
   "cell_type": "code",
   "execution_count": 6,
   "id": "23e5db64-968c-48bf-b281-296d918f8a53",
   "metadata": {},
   "outputs": [],
   "source": [
    "indices = pd.DataFrame(np.reshape(train_images,(60000,-1))).mean().sort_values(ascending = False)[:D].index\n",
    "\n",
    "X_train = np.reshape(train_images,(60000,-1))[:train,indices]\n",
    "X_test  = np.reshape(test_images,(10000,-1))[:holdout,indices]\n",
    "y_train = train_labels[:train]\n",
    "y_test  = test_labels[:holdout]"
   ]
  },
  {
   "cell_type": "code",
   "execution_count": 7,
   "id": "ca3d5e31-85b2-4e71-9390-2967b70084db",
   "metadata": {},
   "outputs": [
    {
     "data": {
      "text/plain": [
       "(200, 10)"
      ]
     },
     "execution_count": 7,
     "metadata": {},
     "output_type": "execute_result"
    }
   ],
   "source": [
    "\n",
    "len(X_train),len(y_test)"
   ]
  },
  {
   "cell_type": "code",
   "execution_count": null,
   "id": "f048365c-7774-45e8-9918-b7c76a7d587e",
   "metadata": {},
   "outputs": [],
   "source": [
    "import sopy as sp"
   ]
  },
  {
   "cell_type": "code",
   "execution_count": 9,
   "id": "af490b56-5375-4320-910f-bb5f6d49c34c",
   "metadata": {},
   "outputs": [],
   "source": [
    "Run = pd.Series()\n",
    "\n",
    "d = pd.DataFrame(X_train, columns = range(1,D+1)).describe()\n",
    "ir= pd.DataFrame(X_train, columns = range(1,D+1))\n",
    "cl= pd.Series(y_train)\n",
    "\n",
    "\n",
    "sigmas   =  [ [ 0.63 for c in d ] for cl1 in cl.unique() ]\n",
    "\n",
    "\n",
    "spacings  = [ d[c]['std']/4 for c in d]\n",
    "lattices = [ np.arange( 0,1, spacings[dd] ) for dd,c in enumerate(d) ]\n",
    "wavenumbers = D*[0.]\n",
    "phis        = D*[0.]\n",
    "\n",
    "\n",
    "Run['canons'] = canons\n",
    "Run['holdout'] = holdout\n",
    "Run['random_state'] = random_state\n",
    "Run['dense_layer_length'] = dense_layer_length\n",
    "\n",
    "d = pd.DataFrame(X_train, columns = range(1,D+1)).describe()\n",
    "ir= pd.DataFrame(X_train, columns = range(1,D+1))\n",
    "cl= pd.Series(y_train)"
   ]
  },
  {
   "cell_type": "code",
   "execution_count": 10,
   "id": "9c8be514-03c5-47fa-bda6-368b23824e45",
   "metadata": {
    "scrolled": true
   },
   "outputs": [
    {
     "name": "stderr",
     "output_type": "stream",
     "text": [
      "2025-05-09 09:39:17.599916: E external/local_xla/xla/stream_executor/cuda/cuda_driver.cc:152] failed call to cuInit: INTERNAL: CUDA error: Failed call to cuInit: CUDA_ERROR_NO_DEVICE: no CUDA-capable device is detected\n"
     ]
    },
    {
     "name": "stdout",
     "output_type": "stream",
     "text": [
      "21\n",
      "26\n",
      "20\n",
      "21\n",
      "21\n",
      "13\n",
      "19\n",
      "21\n",
      "15\n",
      "23\n"
     ]
    }
   ],
   "source": [
    "F = {}\n",
    "for f in range(10):\n",
    "    u = sp.vector()\n",
    "    for index in cl[cl==f].index:\n",
    "        u += sp.vector().gaussian(a=1, ls = D*[0], positions = ir.loc[index].values, sigmas = sigmas[f] , lattices = lattices, wavenumbers = wavenumbers,phis = phis)\n",
    "    F[f] = u.mul(1./u.n()).fibonacci(partition = canons )\n",
    "    \n",
    "    print(len(u))"
   ]
  },
  {
   "cell_type": "code",
   "execution_count": 11,
   "id": "c3bd97d0-e55d-410f-922b-efafbb506f57",
   "metadata": {},
   "outputs": [
    {
     "data": {
      "text/plain": [
       "[[<tf.Tensor: shape=(), dtype=float64, numpy=0.428482751030547>,\n",
       "  <tf.Tensor: shape=(), dtype=float64, numpy=0.6878267363927391>,\n",
       "  <tf.Tensor: shape=(), dtype=float64, numpy=0.44899796479087895>,\n",
       "  <tf.Tensor: shape=(), dtype=float64, numpy=0.18156058570038258>,\n",
       "  <tf.Tensor: shape=(), dtype=float64, numpy=0.5805194355823853>,\n",
       "  <tf.Tensor: shape=(), dtype=float64, numpy=0.4115107457771649>,\n",
       "  <tf.Tensor: shape=(), dtype=float64, numpy=0.4689076787061763>,\n",
       "  <tf.Tensor: shape=(), dtype=float64, numpy=0.3788769835287105>,\n",
       "  <tf.Tensor: shape=(), dtype=float64, numpy=0.4328669241200911>],\n",
       " [<tf.Tensor: shape=(), dtype=float64, numpy=0.6875003278152766>,\n",
       "  <tf.Tensor: shape=(), dtype=float64, numpy=0.6539216246374503>,\n",
       "  <tf.Tensor: shape=(), dtype=float64, numpy=0.5797727984584444>,\n",
       "  <tf.Tensor: shape=(), dtype=float64, numpy=0.7276616678395339>,\n",
       "  <tf.Tensor: shape=(), dtype=float64, numpy=0.6589332279256237>,\n",
       "  <tf.Tensor: shape=(), dtype=float64, numpy=0.6120686938431033>,\n",
       "  <tf.Tensor: shape=(), dtype=float64, numpy=0.7751084063735053>,\n",
       "  <tf.Tensor: shape=(), dtype=float64, numpy=0.6218587657241911>],\n",
       " [<tf.Tensor: shape=(), dtype=float64, numpy=0.7032264671650366>,\n",
       "  <tf.Tensor: shape=(), dtype=float64, numpy=0.41635374962449767>,\n",
       "  <tf.Tensor: shape=(), dtype=float64, numpy=0.7254803084517301>,\n",
       "  <tf.Tensor: shape=(), dtype=float64, numpy=0.6335810746208376>,\n",
       "  <tf.Tensor: shape=(), dtype=float64, numpy=0.6475425845420367>,\n",
       "  <tf.Tensor: shape=(), dtype=float64, numpy=0.6721763292627151>,\n",
       "  <tf.Tensor: shape=(), dtype=float64, numpy=0.6712058662355204>],\n",
       " [<tf.Tensor: shape=(), dtype=float64, numpy=0.5029824636111981>,\n",
       "  <tf.Tensor: shape=(), dtype=float64, numpy=0.6445994800269634>,\n",
       "  <tf.Tensor: shape=(), dtype=float64, numpy=0.6821249320732221>,\n",
       "  <tf.Tensor: shape=(), dtype=float64, numpy=0.6434194625631648>,\n",
       "  <tf.Tensor: shape=(), dtype=float64, numpy=0.7612417330700568>,\n",
       "  <tf.Tensor: shape=(), dtype=float64, numpy=0.7893357532789236>],\n",
       " [<tf.Tensor: shape=(), dtype=float64, numpy=0.5404458709044999>,\n",
       "  <tf.Tensor: shape=(), dtype=float64, numpy=0.5123060363456331>,\n",
       "  <tf.Tensor: shape=(), dtype=float64, numpy=0.6140504180962388>,\n",
       "  <tf.Tensor: shape=(), dtype=float64, numpy=0.5947649813465377>,\n",
       "  <tf.Tensor: shape=(), dtype=float64, numpy=0.5493820074201379>],\n",
       " [<tf.Tensor: shape=(), dtype=float64, numpy=0.613839365295829>,\n",
       "  <tf.Tensor: shape=(), dtype=float64, numpy=0.7540666444001745>,\n",
       "  <tf.Tensor: shape=(), dtype=float64, numpy=0.6453500859364129>,\n",
       "  <tf.Tensor: shape=(), dtype=float64, numpy=0.6368171632258907>],\n",
       " [<tf.Tensor: shape=(), dtype=float64, numpy=0.5910982131894443>,\n",
       "  <tf.Tensor: shape=(), dtype=float64, numpy=0.754291723423807>,\n",
       "  <tf.Tensor: shape=(), dtype=float64, numpy=0.6415609705875192>],\n",
       " [<tf.Tensor: shape=(), dtype=float64, numpy=0.614592715372149>,\n",
       "  <tf.Tensor: shape=(), dtype=float64, numpy=0.6835151072504951>],\n",
       " [<tf.Tensor: shape=(), dtype=float64, numpy=0.7108736952441463>],\n",
       " []]"
      ]
     },
     "execution_count": 11,
     "metadata": {},
     "output_type": "execute_result"
    }
   ],
   "source": [
    "[[ F[i].dot(F[j]) for i in range(j+1,10)] for j in range(10)]"
   ]
  },
  {
   "cell_type": "code",
   "execution_count": 13,
   "id": "d8a95b66-1e1b-485d-9adf-2d98ccf25333",
   "metadata": {},
   "outputs": [],
   "source": [
    "y_flat_pred = [ [([ v.dot(sp.vector().delta(a= 1/np.sqrt(np.prod(spacings)), positions = x, spacings = spacings , lattices = lattices, wavenumbers = wavenumbers, phis = phis )) for v in list(F.values()) ])]for x in X_test]"
   ]
  },
  {
   "cell_type": "code",
   "execution_count": 14,
   "id": "54bb1638-6739-47f1-b9fd-fff506e196c0",
   "metadata": {},
   "outputs": [
    {
     "data": {
      "text/plain": [
       "np.float64(33489.730452502154)"
      ]
     },
     "execution_count": 14,
     "metadata": {},
     "output_type": "execute_result"
    }
   ],
   "source": [
    "y_pred=[np.argmax(y) for y in y_flat_pred]\n",
    "np.mean( [ max(y) for y in y_flat_pred] )"
   ]
  },
  {
   "cell_type": "code",
   "execution_count": 15,
   "id": "0a8774c6-1464-4efc-9bb1-32ef1a78a56d",
   "metadata": {},
   "outputs": [],
   "source": [
    "accuracy_sop = accuracy_score(y_test, y_pred)\n",
    "Run['accuracy_sop'] = accuracy_sop"
   ]
  },
  {
   "cell_type": "code",
   "execution_count": 16,
   "id": "9dd7642a-85d8-4d06-890b-076a0a5063bd",
   "metadata": {},
   "outputs": [
    {
     "name": "stdout",
     "output_type": "stream",
     "text": [
      "\n",
      "Test Accuracy: 0.6000\n"
     ]
    }
   ],
   "source": [
    "##GEMINI GENERATED THIS CODE\n",
    "\n",
    "# Scale the features using StandardScaler\n",
    "scaler = StandardScaler()\n",
    "X_train_scaled = scaler.fit_transform(X_train)\n",
    "X_test_scaled = scaler.transform(X_test)\n",
    "\n",
    "# 4. Define the Single Layer Dense Neural Network (Softmax Regression)\n",
    "class SingleLayerNN:\n",
    "    def __init__(self, input_size, output_size, learning_rate=0.01, epochs=1000):\n",
    "        self.input_size = input_size\n",
    "        self.output_size = output_size\n",
    "        self.learning_rate = learning_rate\n",
    "        self.epochs = epochs\n",
    "        self.weights = np.random.rand(input_size, output_size) - 0.5  # Initialize weights randomly\n",
    "        self.bias = np.zeros((1, output_size))  # Initialize bias to zeros\n",
    "\n",
    "    def softmax(self, z):\n",
    "        exp_z = np.exp(z - np.max(z, axis=1, keepdims=True))  # Subtract max for numerical stability\n",
    "        return exp_z / np.sum(exp_z, axis=1, keepdims=True)\n",
    "\n",
    "    def forward(self, X):\n",
    "        self.z = np.dot(X, self.weights) + self.bias\n",
    "        self.y_hat = self.softmax(self.z)\n",
    "        return self.y_hat\n",
    "\n",
    "    def backward(self, X, y, y_hat):\n",
    "        m = X.shape[0]\n",
    "        dz = y_hat - self.one_hot_encode(y)\n",
    "        dw = (1/m) * np.dot(X.T, dz)\n",
    "        db = (1/m) * np.sum(dz, axis=0, keepdims=True)\n",
    "        return dw, db\n",
    "\n",
    "    def one_hot_encode(self, y):\n",
    "        one_hot = np.zeros((len(y), self.output_size))\n",
    "        one_hot[np.arange(len(y)), y] = 1\n",
    "        return one_hot\n",
    "\n",
    "    def update_parameters(self, dw, db):\n",
    "        self.weights -= self.learning_rate * dw\n",
    "        self.bias -= self.learning_rate * db\n",
    "\n",
    "    def train(self, X_train, y_train):\n",
    "        for epoch in range(self.epochs):\n",
    "            y_hat = self.forward(X_train)\n",
    "            dw, db = self.backward(X_train, y_train, y_hat)\n",
    "            self.update_parameters(dw, db)\n",
    "            if (epoch + 1) % 100 == 0:\n",
    "                loss = self.categorical_cross_entropy(self.one_hot_encode(y_train), y_hat)\n",
    "                #print(f\"Epoch {epoch + 1}/{self.epochs}, Loss: {loss:.4f}\")\n",
    "\n",
    "    def predict(self, X_test):\n",
    "        y_prob = self.forward(X_test)\n",
    "        y_pred = np.argmax(y_prob, axis=1)\n",
    "        return y_pred\n",
    "\n",
    "    def categorical_cross_entropy(self, y_true, y_pred):\n",
    "        # Add a small epsilon to avoid log(0)\n",
    "        epsilon = 1e-15\n",
    "        y_pred_clipped = np.clip(y_pred, epsilon, 1 - epsilon)\n",
    "        loss = -np.mean(np.sum(y_true * np.log(y_pred_clipped), axis=1))\n",
    "        return loss\n",
    "\n",
    "# 5. Initialize and train the neural network\n",
    "input_size = X_train_scaled.shape[1]  # Number of features (4)\n",
    "output_size = len(np.unique(y_train))  # Number of classes (3)\n",
    "learning_rate = 0.1\n",
    "epochs = 2000\n",
    "\n",
    "model = SingleLayerNN(input_size, output_size, learning_rate, epochs)\n",
    "model.train(X_train_scaled, y_train)\n",
    "\n",
    "# 6. Make predictions on the test set\n",
    "y_pred = model.predict(X_test_scaled)\n",
    "\n",
    "# 7. Evaluate the model\n",
    "accuracy_snn = accuracy_score(y_test, y_pred)\n",
    "print(f\"\\nTest Accuracy: {accuracy_snn:.4f}\")\n",
    "\n",
    "# You can also print the classification report for more detailed metrics\n",
    "#from sklearn.metrics import classification_report\n",
    "#print(\"\\nClassification Report:\")\n",
    "#print(classification_report(y_test, y_pred, target_names=label_encoder.classes_))"
   ]
  },
  {
   "cell_type": "code",
   "execution_count": null,
   "id": "8cfdc8e3-1835-4a74-a75f-cd4e90e37df3",
   "metadata": {},
   "outputs": [
    {
     "data": {
      "text/plain": [
       "canons                 5.0\n",
       "holdout               10.0\n",
       "random_state           1.0\n",
       "dense_layer_length    10.0\n",
       "accuracy_sop           0.6\n",
       "accuracy_dnn           0.6\n",
       "dtype: float64"
      ]
     },
     "execution_count": 17,
     "metadata": {},
     "output_type": "execute_result"
    }
   ],
   "source": [
    "Run['accuracy_dnn'] = accuracy_snn\n",
    "Run"
   ]
  },
  {
   "cell_type": "code",
   "execution_count": null,
   "id": "409d5877-c826-4048-833e-accfc5784098",
   "metadata": {},
   "outputs": [],
   "source": []
  },
  {
   "cell_type": "code",
   "execution_count": null,
   "id": "2de92749-012a-4f96-a8a7-c2f71bcb0d06",
   "metadata": {},
   "outputs": [],
   "source": []
  },
  {
   "cell_type": "code",
   "execution_count": null,
   "id": "610ffd3f-be37-4415-899c-75d6ed0f47d9",
   "metadata": {},
   "outputs": [],
   "source": []
  },
  {
   "cell_type": "code",
   "execution_count": null,
   "id": "81b9a14e-0d1b-45fb-834f-4f62f10b775a",
   "metadata": {},
   "outputs": [],
   "source": []
  }
 ],
 "metadata": {
  "kernelspec": {
   "display_name": "Python 3 (ipykernel)",
   "language": "python",
   "name": "python3"
  },
  "language_info": {
   "codemirror_mode": {
    "name": "ipython",
    "version": 3
   },
   "file_extension": ".py",
   "mimetype": "text/x-python",
   "name": "python",
   "nbconvert_exporter": "python",
   "pygments_lexer": "ipython3",
   "version": "3.12.3"
  }
 },
 "nbformat": 4,
 "nbformat_minor": 5
}
