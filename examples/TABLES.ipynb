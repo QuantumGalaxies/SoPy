{
 "cells": [
  {
   "cell_type": "code",
   "execution_count": 8,
   "id": "dc261e08-6e2c-4e69-b9df-16d5674599fb",
   "metadata": {},
   "outputs": [
    {
     "data": {
      "text/plain": [
       "<module 'tensorflow._api.v2.math.special' from '/home/jonathanjerke/QuantumGalaxies/Andromeda/lib/python3.12/site-packages/tensorflow/_api/v2/math/special/__init__.py'>"
      ]
     },
     "execution_count": 8,
     "metadata": {},
     "output_type": "execute_result"
    }
   ],
   "source": [
    "import tensorflow as tf\n",
    "(tf.math.special)"
   ]
  },
  {
   "cell_type": "code",
   "execution_count": 5,
   "id": "bf1e8d00-e669-4b83-8f22-250cc3aec4d9",
   "metadata": {},
   "outputs": [],
   "source": [
    "from os import chdir\n",
    "chdir('../Hermes')\n",
    "from connect import conn\n",
    "engine = conn()\n",
    "import pandas as pd"
   ]
  },
  {
   "cell_type": "code",
   "execution_count": 6,
   "id": "ec160614-b08d-4897-a6f4-39ab7e06cfb2",
   "metadata": {},
   "outputs": [],
   "source": [
    "count   = 16\n",
    "species = f'H{count if count > 1 else ''}'\n",
    "X_h4 = pd.read_sql ( f'''SELECT * FROM \"pySCF\" WHERE filename = '{species}' AND method <> 'boost_fibonacci' AND method <> 'Orbital' ''' , engine)"
   ]
  },
  {
   "cell_type": "code",
   "execution_count": 9,
   "id": "f43678c1-88de-4463-874f-92feee4f7e58",
   "metadata": {},
   "outputs": [
    {
     "data": {
      "text/plain": [
       "canons\n",
       "4     1.356624\n",
       "8     1.469486\n",
       "16    1.719398\n",
       "32    5.997236\n",
       "Name: dist, dtype: float64"
      ]
     },
     "execution_count": 9,
     "metadata": {},
     "output_type": "execute_result"
    }
   ],
   "source": [
    "x = X_h4.groupby(['method','canons'])[['dist','canons']].mean()\n",
    "x['dist']['reduce']/x['dist']['fibonacci']#/x['canons']['reduce'].apply(lambda x : (x/count)**1.5)\n",
    "\n",
    "##report against orbital canons,  look for *FINISHING QUALITY BOOST*\n",
    "##estabilish baseline quality improvement "
   ]
  },
  {
   "cell_type": "code",
   "execution_count": 8,
   "id": "313475e1-ec18-4961-9c28-38d7422a9426",
   "metadata": {},
   "outputs": [
    {
     "name": "stdout",
     "output_type": "stream",
     "text": [
      "\\begin{tabular}{lrr}\n",
      "\\toprule\n",
      "method & fibonacci & reduce \\\\\n",
      "canons &  &  \\\\\n",
      "\\midrule\n",
      "4 & 0.029224 & 0.039645 \\\\\n",
      "8 & 0.011159 & 0.016398 \\\\\n",
      "16 & 0.003213 & 0.005524 \\\\\n",
      "32 & 0.000321 & 0.001924 \\\\\n",
      "\\bottomrule\n",
      "\\end{tabular}\n",
      "\n"
     ]
    }
   ],
   "source": [
    "print(pd.pivot_table(x.drop(columns = ['canons']), index = ['canons'] , columns = ['method'] ,values = 'dist').to_latex())"
   ]
  },
  {
   "cell_type": "code",
   "execution_count": 51,
   "id": "831bbffc-e881-4dc7-a922-4a016077b432",
   "metadata": {},
   "outputs": [],
   "source": [
    "X_iris = pd.read_sql( f''' SELECT * FROM iris WHERE canons = 1 and holdout = 0.7 ''' , engine)"
   ]
  },
  {
   "cell_type": "code",
   "execution_count": 53,
   "id": "ffc01e00-f251-493b-9c94-f015c2b44476",
   "metadata": {},
   "outputs": [
    {
     "data": {
      "text/html": [
       "<div>\n",
       "<style scoped>\n",
       "    .dataframe tbody tr th:only-of-type {\n",
       "        vertical-align: middle;\n",
       "    }\n",
       "\n",
       "    .dataframe tbody tr th {\n",
       "        vertical-align: top;\n",
       "    }\n",
       "\n",
       "    .dataframe thead th {\n",
       "        text-align: right;\n",
       "    }\n",
       "</style>\n",
       "<table border=\"1\" class=\"dataframe\">\n",
       "  <thead>\n",
       "    <tr style=\"text-align: right;\">\n",
       "      <th></th>\n",
       "      <th>canons</th>\n",
       "      <th>holdout</th>\n",
       "      <th>random_state</th>\n",
       "      <th>dense_layer_length</th>\n",
       "      <th>num_samples</th>\n",
       "      <th>accuracy_sop</th>\n",
       "      <th>accuracy_snn</th>\n",
       "      <th>accuracy_buddy</th>\n",
       "    </tr>\n",
       "  </thead>\n",
       "  <tbody>\n",
       "    <tr>\n",
       "      <th>1</th>\n",
       "      <td>1.0</td>\n",
       "      <td>0.7</td>\n",
       "      <td>181.0</td>\n",
       "      <td>4.0</td>\n",
       "      <td>3000.0</td>\n",
       "      <td>0.952381</td>\n",
       "      <td>0.952381</td>\n",
       "      <td>0.914286</td>\n",
       "    </tr>\n",
       "    <tr>\n",
       "      <th>5</th>\n",
       "      <td>1.0</td>\n",
       "      <td>0.7</td>\n",
       "      <td>181.0</td>\n",
       "      <td>10.0</td>\n",
       "      <td>3000.0</td>\n",
       "      <td>0.952381</td>\n",
       "      <td>0.961905</td>\n",
       "      <td>0.904762</td>\n",
       "    </tr>\n",
       "    <tr>\n",
       "      <th>0</th>\n",
       "      <td>1.0</td>\n",
       "      <td>0.7</td>\n",
       "      <td>181.0</td>\n",
       "      <td>40.0</td>\n",
       "      <td>3000.0</td>\n",
       "      <td>0.952381</td>\n",
       "      <td>0.952381</td>\n",
       "      <td>0.923810</td>\n",
       "    </tr>\n",
       "    <tr>\n",
       "      <th>2</th>\n",
       "      <td>1.0</td>\n",
       "      <td>0.7</td>\n",
       "      <td>181.0</td>\n",
       "      <td>100.0</td>\n",
       "      <td>3000.0</td>\n",
       "      <td>0.952381</td>\n",
       "      <td>0.952381</td>\n",
       "      <td>0.942857</td>\n",
       "    </tr>\n",
       "    <tr>\n",
       "      <th>7</th>\n",
       "      <td>1.0</td>\n",
       "      <td>0.7</td>\n",
       "      <td>181.0</td>\n",
       "      <td>100.0</td>\n",
       "      <td>5000.0</td>\n",
       "      <td>0.952381</td>\n",
       "      <td>0.952381</td>\n",
       "      <td>0.923810</td>\n",
       "    </tr>\n",
       "    <tr>\n",
       "      <th>6</th>\n",
       "      <td>1.0</td>\n",
       "      <td>0.7</td>\n",
       "      <td>181.0</td>\n",
       "      <td>100.0</td>\n",
       "      <td>3000.0</td>\n",
       "      <td>0.952381</td>\n",
       "      <td>0.952381</td>\n",
       "      <td>0.923810</td>\n",
       "    </tr>\n",
       "    <tr>\n",
       "      <th>3</th>\n",
       "      <td>1.0</td>\n",
       "      <td>0.7</td>\n",
       "      <td>181.0</td>\n",
       "      <td>120.0</td>\n",
       "      <td>3000.0</td>\n",
       "      <td>0.952381</td>\n",
       "      <td>0.961905</td>\n",
       "      <td>0.933333</td>\n",
       "    </tr>\n",
       "    <tr>\n",
       "      <th>4</th>\n",
       "      <td>1.0</td>\n",
       "      <td>0.7</td>\n",
       "      <td>181.0</td>\n",
       "      <td>120.0</td>\n",
       "      <td>3000.0</td>\n",
       "      <td>0.952381</td>\n",
       "      <td>0.952381</td>\n",
       "      <td>0.923810</td>\n",
       "    </tr>\n",
       "  </tbody>\n",
       "</table>\n",
       "</div>"
      ],
      "text/plain": [
       "   canons  holdout  random_state  dense_layer_length  num_samples  \\\n",
       "1     1.0      0.7         181.0                 4.0       3000.0   \n",
       "5     1.0      0.7         181.0                10.0       3000.0   \n",
       "0     1.0      0.7         181.0                40.0       3000.0   \n",
       "2     1.0      0.7         181.0               100.0       3000.0   \n",
       "7     1.0      0.7         181.0               100.0       5000.0   \n",
       "6     1.0      0.7         181.0               100.0       3000.0   \n",
       "3     1.0      0.7         181.0               120.0       3000.0   \n",
       "4     1.0      0.7         181.0               120.0       3000.0   \n",
       "\n",
       "   accuracy_sop  accuracy_snn  accuracy_buddy  \n",
       "1      0.952381      0.952381        0.914286  \n",
       "5      0.952381      0.961905        0.904762  \n",
       "0      0.952381      0.952381        0.923810  \n",
       "2      0.952381      0.952381        0.942857  \n",
       "7      0.952381      0.952381        0.923810  \n",
       "6      0.952381      0.952381        0.923810  \n",
       "3      0.952381      0.961905        0.933333  \n",
       "4      0.952381      0.952381        0.923810  "
      ]
     },
     "execution_count": 53,
     "metadata": {},
     "output_type": "execute_result"
    }
   ],
   "source": [
    "X_iris.sort_values(by = ['dense_layer_length'])"
   ]
  },
  {
   "cell_type": "code",
   "execution_count": 54,
   "id": "f97490ec-dd92-4e1f-bde0-c212505a6c99",
   "metadata": {},
   "outputs": [
    {
     "data": {
      "text/html": [
       "<div>\n",
       "<style scoped>\n",
       "    .dataframe tbody tr th:only-of-type {\n",
       "        vertical-align: middle;\n",
       "    }\n",
       "\n",
       "    .dataframe tbody tr th {\n",
       "        vertical-align: top;\n",
       "    }\n",
       "\n",
       "    .dataframe thead th {\n",
       "        text-align: right;\n",
       "    }\n",
       "</style>\n",
       "<table border=\"1\" class=\"dataframe\">\n",
       "  <thead>\n",
       "    <tr style=\"text-align: right;\">\n",
       "      <th></th>\n",
       "      <th>canons</th>\n",
       "      <th>holdout</th>\n",
       "      <th>random_state</th>\n",
       "      <th>dense_layer_length</th>\n",
       "      <th>num_samples</th>\n",
       "      <th>accuracy_sop</th>\n",
       "      <th>accuracy_snn</th>\n",
       "      <th>accuracy_buddy</th>\n",
       "    </tr>\n",
       "  </thead>\n",
       "  <tbody>\n",
       "    <tr>\n",
       "      <th>0</th>\n",
       "      <td>3.0</td>\n",
       "      <td>0.85</td>\n",
       "      <td>396.0</td>\n",
       "      <td>100.0</td>\n",
       "      <td>1000.0</td>\n",
       "      <td>0.953125</td>\n",
       "      <td>0.929688</td>\n",
       "      <td>0.968750</td>\n",
       "    </tr>\n",
       "    <tr>\n",
       "      <th>1</th>\n",
       "      <td>4.0</td>\n",
       "      <td>0.85</td>\n",
       "      <td>496.0</td>\n",
       "      <td>100.0</td>\n",
       "      <td>1000.0</td>\n",
       "      <td>0.906250</td>\n",
       "      <td>0.804688</td>\n",
       "      <td>0.859375</td>\n",
       "    </tr>\n",
       "    <tr>\n",
       "      <th>2</th>\n",
       "      <td>2.0</td>\n",
       "      <td>0.85</td>\n",
       "      <td>296.0</td>\n",
       "      <td>100.0</td>\n",
       "      <td>5000.0</td>\n",
       "      <td>0.953125</td>\n",
       "      <td>0.953125</td>\n",
       "      <td>0.960938</td>\n",
       "    </tr>\n",
       "    <tr>\n",
       "      <th>3</th>\n",
       "      <td>2.0</td>\n",
       "      <td>0.85</td>\n",
       "      <td>296.0</td>\n",
       "      <td>100.0</td>\n",
       "      <td>5000.0</td>\n",
       "      <td>0.953125</td>\n",
       "      <td>0.945312</td>\n",
       "      <td>0.953125</td>\n",
       "    </tr>\n",
       "  </tbody>\n",
       "</table>\n",
       "</div>"
      ],
      "text/plain": [
       "   canons  holdout  random_state  dense_layer_length  num_samples  \\\n",
       "0     3.0     0.85         396.0               100.0       1000.0   \n",
       "1     4.0     0.85         496.0               100.0       1000.0   \n",
       "2     2.0     0.85         296.0               100.0       5000.0   \n",
       "3     2.0     0.85         296.0               100.0       5000.0   \n",
       "\n",
       "   accuracy_sop  accuracy_snn  accuracy_buddy  \n",
       "0      0.953125      0.929688        0.968750  \n",
       "1      0.906250      0.804688        0.859375  \n",
       "2      0.953125      0.953125        0.960938  \n",
       "3      0.953125      0.945312        0.953125  "
      ]
     },
     "execution_count": 54,
     "metadata": {},
     "output_type": "execute_result"
    }
   ],
   "source": [
    "pd.read_sql( f''' SELECT * FROM iris WHERE accuracy_buddy > accuracy_snn ''' , engine)"
   ]
  },
  {
   "cell_type": "code",
   "execution_count": null,
   "id": "1d489c72-e6ea-4611-a650-8a50e70d2e65",
   "metadata": {},
   "outputs": [],
   "source": []
  }
 ],
 "metadata": {
  "kernelspec": {
   "display_name": "Python 3 (ipykernel)",
   "language": "python",
   "name": "python3"
  },
  "language_info": {
   "codemirror_mode": {
    "name": "ipython",
    "version": 3
   },
   "file_extension": ".py",
   "mimetype": "text/x-python",
   "name": "python",
   "nbconvert_exporter": "python",
   "pygments_lexer": "ipython3",
   "version": "3.12.3"
  }
 },
 "nbformat": 4,
 "nbformat_minor": 5
}
